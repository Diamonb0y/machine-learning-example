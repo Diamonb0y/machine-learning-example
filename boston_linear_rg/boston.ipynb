{
 "cells": [
  {
   "cell_type": "code",
   "execution_count": null,
   "id": "e36c153a",
   "metadata": {
    "ExecuteTime": {
     "end_time": "2021-05-29T08:32:10.065848Z",
     "start_time": "2021-05-29T08:32:10.059565Z"
    },
    "slideshow": {
     "slide_type": "slide"
    }
   },
   "outputs": [],
   "source": [
    "# 导入相关模块\n",
    "import sklearn.datasets as skdata\n",
    "import matplotlib.pyplot as plt\n",
    "import seaborn as sns\n",
    "import pandas as pd\n",
    "import sklearn.model_selection as skmodel\n",
    "import sklearn.linear_model as sklinear\n",
    "import sklearn.preprocessing as skprep\n",
    "import sklearn.metrics as skmetrics"
   ]
  },
  {
   "cell_type": "code",
   "execution_count": null,
   "id": "5957cebe",
   "metadata": {
    "ExecuteTime": {
     "end_time": "2021-05-29T09:51:17.228728Z",
     "start_time": "2021-05-29T09:51:17.170120Z"
    },
    "slideshow": {
     "slide_type": "slide"
    }
   },
   "outputs": [],
   "source": [
    "# 获取数据\n",
    "data = skdata.load_boston()\n",
    "# 转化为dataframe\n",
    "df = pd.DataFrame(data['data'], columns=['CRIM', 'ZN', 'INDUS', 'CHAS', 'NOX', 'RM', 'AGE', 'DIS', 'RAD',\n",
    "        'TAX', 'PTRATIO', 'B', 'LSTAT'])\n",
    "df"
   ]
  },
  {
   "cell_type": "code",
   "execution_count": null,
   "id": "6bbd6954",
   "metadata": {
    "ExecuteTime": {
     "end_time": "2021-05-29T09:51:54.706273Z",
     "start_time": "2021-05-29T09:51:54.671970Z"
    },
    "slideshow": {
     "slide_type": "slide"
    }
   },
   "outputs": [],
   "source": [
    "df['PRICE'] = data.target\n",
    "df"
   ]
  },
  {
   "cell_type": "code",
   "execution_count": null,
   "id": "ea0018b4",
   "metadata": {
    "ExecuteTime": {
     "end_time": "2021-05-29T09:52:49.514959Z",
     "start_time": "2021-05-29T09:52:49.273995Z"
    },
    "slideshow": {
     "slide_type": "slide"
    }
   },
   "outputs": [],
   "source": [
    "# 绘制散点图，初步探索数据间关系\n",
    "# sns.relplot(x='DIS', y='PRICE', data=df)\n",
    "sns.relplot(x='CRIM', y='PRICE', data=df)\n"
   ]
  },
  {
   "cell_type": "code",
   "execution_count": null,
   "id": "88a7dae1",
   "metadata": {
    "ExecuteTime": {
     "end_time": "2021-05-29T09:53:44.171330Z",
     "start_time": "2021-05-29T09:53:44.158644Z"
    },
    "slideshow": {
     "slide_type": "slide"
    }
   },
   "outputs": [],
   "source": [
    "# 数据集划分\n",
    "x_train, x_test, y_train, y_test = skmodel.train_test_split(data.data, data.target, random_state=22)"
   ]
  },
  {
   "cell_type": "code",
   "execution_count": null,
   "id": "f5ea986e",
   "metadata": {
    "ExecuteTime": {
     "end_time": "2021-05-29T09:54:45.069087Z",
     "start_time": "2021-05-29T09:54:45.052073Z"
    },
    "slideshow": {
     "slide_type": "slide"
    }
   },
   "outputs": [],
   "source": [
    "# 特征工程\n",
    "transfer = skprep.StandardScaler()\n",
    "x_train = transfer.fit_transform(x_train)\n",
    "x_test = transfer.fit_transform(x_test)"
   ]
  },
  {
   "cell_type": "code",
   "execution_count": null,
   "id": "134d97a1",
   "metadata": {
    "ExecuteTime": {
     "end_time": "2021-05-29T09:58:19.265171Z",
     "start_time": "2021-05-29T09:58:19.257586Z"
    },
    "slideshow": {
     "slide_type": "slide"
    }
   },
   "outputs": [],
   "source": [
    "# 4.机器学习-线性回归(特征方程)\n",
    "# estimator = sklinear.SGDRegressor(max_iter=100, learning_rate='constant', eta0=0.01)\n",
    "estimator = sklinear.SGDRegressor(max_iter=100)\n",
    "\n",
    "estimator.fit(x_train, y_train) "
   ]
  },
  {
   "cell_type": "code",
   "execution_count": null,
   "id": "e3f6faac",
   "metadata": {
    "ExecuteTime": {
     "end_time": "2021-05-29T09:58:20.655961Z",
     "start_time": "2021-05-29T09:58:20.641307Z"
    },
    "slideshow": {
     "slide_type": "slide"
    }
   },
   "outputs": [],
   "source": [
    " # 5.模型评估\n",
    "# 5.1 获取系数等值\n",
    "y_predict = estimator.predict(x_test)\n",
    "print(\"预测值为:\\n\", y_predict)\n",
    "print(\"模型中的系数为:\\n\", estimator.coef_)\n",
    "print(\"模型中的偏置为:\\n\", estimator.intercept_)\n",
    "\n"
   ]
  },
  {
   "cell_type": "code",
   "execution_count": null,
   "id": "5820a91d",
   "metadata": {
    "ExecuteTime": {
     "end_time": "2021-05-29T09:58:21.827669Z",
     "start_time": "2021-05-29T09:58:21.823086Z"
    },
    "slideshow": {
     "slide_type": "slide"
    }
   },
   "outputs": [],
   "source": [
    "# 5.2 评价\n",
    "# 均方误差\n",
    "error = skmetrics.mean_squared_error(y_test, y_predict)\n",
    "print(\"误差为:\\n\", error)"
   ]
  }
 ],
 "metadata": {
  "celltoolbar": "幻灯片",
  "kernelspec": {
   "display_name": "Python 3",
   "language": "python",
   "name": "python3"
  },
  "language_info": {
   "codemirror_mode": {
    "name": "ipython",
    "version": 3
   },
   "file_extension": ".py",
   "mimetype": "text/x-python",
   "name": "python",
   "nbconvert_exporter": "python",
   "pygments_lexer": "ipython3",
   "version": "3.9.4"
  },
  "toc": {
   "base_numbering": 1,
   "nav_menu": {},
   "number_sections": true,
   "sideBar": true,
   "skip_h1_title": false,
   "title_cell": "Table of Contents",
   "title_sidebar": "Contents",
   "toc_cell": false,
   "toc_position": {},
   "toc_section_display": true,
   "toc_window_display": false
  },
  "varInspector": {
   "cols": {
    "lenName": 16,
    "lenType": 16,
    "lenVar": 40
   },
   "kernels_config": {
    "python": {
     "delete_cmd_postfix": "",
     "delete_cmd_prefix": "del ",
     "library": "var_list.py",
     "varRefreshCmd": "print(var_dic_list())"
    },
    "r": {
     "delete_cmd_postfix": ") ",
     "delete_cmd_prefix": "rm(",
     "library": "var_list.r",
     "varRefreshCmd": "cat(var_dic_list()) "
    }
   },
   "types_to_exclude": [
    "module",
    "function",
    "builtin_function_or_method",
    "instance",
    "_Feature"
   ],
   "window_display": false
  }
 },
 "nbformat": 4,
 "nbformat_minor": 5
}
