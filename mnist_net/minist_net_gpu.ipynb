{
 "cells": [
  {
   "cell_type": "code",
   "execution_count": 30,
   "id": "a5effb29",
   "metadata": {
    "ExecuteTime": {
     "end_time": "2021-06-20T07:02:20.544253Z",
     "start_time": "2021-06-20T07:02:20.525391Z"
    }
   },
   "outputs": [],
   "source": [
    "from torchvision import transforms\n",
    "import numpy as np\n",
    "import torch\n",
    "import torchvision\n",
    "import torch.nn.functional as F\n",
    "from torch import nn\n",
    "from torch import optim\n",
    "from PIL import Image"
   ]
  },
  {
   "cell_type": "code",
   "execution_count": null,
   "id": "49eddc12",
   "metadata": {},
   "outputs": [],
   "source": [
    "torch.__version__"
   ]
  },
  {
   "cell_type": "markdown",
   "id": "21e55d16",
   "metadata": {},
   "source": [
    "### 分析数据\n"
   ]
  },
  {
   "cell_type": "code",
   "execution_count": 1,
   "id": "6814eee2",
   "metadata": {
    "ExecuteTime": {
     "end_time": "2021-06-20T10:32:37.790770Z",
     "start_time": "2021-06-20T10:32:37.409966Z"
    }
   },
   "outputs": [
    {
     "ename": "NameError",
     "evalue": "name 'torchvision' is not defined",
     "output_type": "error",
     "traceback": [
      "\u001b[1;31m---------------------------------------------------------------------------\u001b[0m",
      "\u001b[1;31mNameError\u001b[0m                                 Traceback (most recent call last)",
      "\u001b[1;32m<ipython-input-1-8930d4f5937e>\u001b[0m in \u001b[0;36m<module>\u001b[1;34m\u001b[0m\n\u001b[0;32m      1\u001b[0m \u001b[1;31m#准备数据集，其中0.1307，0.3081为MNIST数据的均值和标准差，这样操作能够对其进行标准化\u001b[0m\u001b[1;33m\u001b[0m\u001b[1;33m\u001b[0m\u001b[1;33m\u001b[0m\u001b[0m\n\u001b[0;32m      2\u001b[0m \u001b[1;31m#因为MNIST只有一个通道（黑白图片）,所以元组中只有一个值\u001b[0m\u001b[1;33m\u001b[0m\u001b[1;33m\u001b[0m\u001b[1;33m\u001b[0m\u001b[0m\n\u001b[1;32m----> 3\u001b[1;33m dataset = torchvision.datasets.MNIST('/data', train=True, download=True,\n\u001b[0m\u001b[0;32m      4\u001b[0m                              transform=torchvision.transforms.Compose([\n\u001b[0;32m      5\u001b[0m                                \u001b[0mtorchvision\u001b[0m\u001b[1;33m.\u001b[0m\u001b[0mtransforms\u001b[0m\u001b[1;33m.\u001b[0m\u001b[0mToTensor\u001b[0m\u001b[1;33m(\u001b[0m\u001b[1;33m)\u001b[0m\u001b[1;33m,\u001b[0m\u001b[1;33m\u001b[0m\u001b[1;33m\u001b[0m\u001b[0m\n",
      "\u001b[1;31mNameError\u001b[0m: name 'torchvision' is not defined"
     ]
    }
   ],
   "source": [
    "#准备数据集，其中0.1307，0.3081为MNIST数据的均值和标准差，这样操作能够对其进行标准化\n",
    "#因为MNIST只有一个通道（黑白图片）,所以元组中只有一个值\n",
    "dataset = torchvision.datasets.MNIST('/data', train=True, download=True,\n",
    "                             transform=torchvision.transforms.Compose([\n",
    "                               torchvision.transforms.ToTensor(),\n",
    "                               torchvision.transforms.Normalize(\n",
    "                                 (0.1307,), (0.3081,))\n",
    "                             ]))\n",
    "\n",
    "dataset.data.size(), dataset.data[0], "
   ]
  },
  {
   "cell_type": "code",
   "execution_count": 34,
   "id": "327adc82",
   "metadata": {
    "ExecuteTime": {
     "end_time": "2021-06-20T07:10:04.219202Z",
     "start_time": "2021-06-20T07:10:04.176048Z"
    }
   },
   "outputs": [
    {
     "data": {
      "image/png": "[encoded data removed]",
      "text/plain": [
       "<PIL.Image.Image image mode=L size=28x28 at 0x217F4A04FA0>"
      ]
     },
     "execution_count": 34,
     "metadata": {},
     "output_type": "execute_result"
    }
   ],
   "source": [
    "Image.fromarray(dataset.data[1].numpy())"
   ]
  },
  {
   "cell_type": "markdown",
   "id": "ec2bb105",
   "metadata": {},
   "source": [
    "### 构建模型"
   ]
  },
  {
   "cell_type": "code",
   "execution_count": 37,
   "id": "dc6590f2",
   "metadata": {
    "ExecuteTime": {
     "end_time": "2021-06-20T07:14:15.941073Z",
     "start_time": "2021-06-20T07:14:15.926114Z"
    }
   },
   "outputs": [
    {
     "name": "stdout",
     "output_type": "stream",
     "text": [
      "torch.Size([60000, 28, 28])\n"
     ]
    },
    {
     "data": {
      "text/plain": [
       "torch.Size([60000, 784])"
      ]
     },
     "execution_count": 37,
     "metadata": {},
     "output_type": "execute_result"
    }
   ],
   "source": [
    "x = dataset.data\n",
    "print(x.size())\n",
    "x = x.view(-1, 28*28*1)\n",
    "x.size()"
   ]
  },
  {
   "cell_type": "code",
   "execution_count": 23,
   "id": "b8d2fa25",
   "metadata": {
    "ExecuteTime": {
     "end_time": "2021-06-20T06:55:46.351432Z",
     "start_time": "2021-06-20T06:55:46.332904Z"
    }
   },
   "outputs": [],
   "source": [
    "class MnistNet(nn.Module):\n",
    "    def __init__(self):\n",
    "        super(MnistNet,self).__init__()\n",
    "        self.fc1 = nn.Linear(28*28*1,28)  #定义Linear的输入和输出的形状\n",
    "        self.fc2 = nn.Linear(28,10)  #定义Linear的输入和输出的形状\n",
    "\n",
    "    def forward(self,x):\n",
    "        x = x.view(-1,28*28*1)  #对数据形状变形，-1表示该位置根据后面的形状自动调整\n",
    "        x = self.fc1(x) #[batch_size,28]\n",
    "        x = F.relu(x)  #[batch_size,28]\n",
    "        x = self.fc2(x) #[batch_size,10]\n",
    "        return F.log_softmax(x, dim=-1)"
   ]
  },
  {
   "cell_type": "markdown",
   "id": "825e4bce",
   "metadata": {},
   "source": [
    "### 准备数据迭代器"
   ]
  },
  {
   "cell_type": "code",
   "execution_count": null,
   "id": "4bb4aead",
   "metadata": {},
   "outputs": [],
   "source": [
    "train_dataloader = torch.utils.data.DataLoader(dataset,batch_size=64,shuffle=True)"
   ]
  },
  {
   "cell_type": "code",
   "execution_count": null,
   "id": "3952bf2c",
   "metadata": {},
   "outputs": [],
   "source": [
    "train_batch_size = 200\n",
    "test_batch_size = 1000\n",
    "img_size = 28\n",
    "\n",
    "def get_dataloader(train=True):\n",
    "\n",
    "    #准备数据集，其中0.1307，0.3081为MNIST数据的均值和标准差，这样操作能够对其进行标准化\n",
    "    #因为MNIST只有一个通道（黑白图片）,所以元组中只有一个值\n",
    "    dataset = torchvision.datasets.MNIST('/data', train=train, download=True,\n",
    "                                         transform=torchvision.transforms.Compose([\n",
    "                                         torchvision.transforms.ToTensor(),\n",
    "                                         torchvision.transforms.Normalize((0.1307,), (0.3081,)),]))\n",
    "    #准备数据迭代器\n",
    "    batch_size = train_batch_size if train else test_batch_size\n",
    "    dataloader = torch.utils.data.DataLoader(dataset,batch_size=batch_size,shuffle=True)\n",
    "    return dataloader"
   ]
  },
  {
   "cell_type": "markdown",
   "id": "5cd34ad1",
   "metadata": {},
   "source": [
    "### 训练"
   ]
  },
  {
   "cell_type": "code",
   "execution_count": 24,
   "id": "2211f350",
   "metadata": {
    "ExecuteTime": {
     "end_time": "2021-06-20T06:55:48.198777Z",
     "start_time": "2021-06-20T06:55:48.190760Z"
    }
   },
   "outputs": [],
   "source": [
    "mnist_net = MnistNet()\n",
    "mnist_net = mnist_net.cuda()\n",
    "optimizer = optim.Adam(mnist_net.parameters(),lr= 0.001)\n",
    "\n",
    "def train(epoch):\n",
    "    mnist_net.train(mode=True) #模型设置为训练模型\n",
    "    \n",
    "    train_dataloader = get_dataloader(train=True) #获取训练数据集\n",
    "    for idx,(data,target) in enumerate(train_dataloader):\n",
    "        optimizer.zero_grad() #梯度置为0\n",
    "        data = data.cuda()\n",
    "        target = target.cuda()\n",
    "        output = mnist_net(data) #进行向前计算\n",
    "      \n",
    "        loss = F.nll_loss(output,target) #带权损失\n",
    "        loss.backward()  #进行反向传播，计算梯度\n",
    "        optimizer.step() #参数更新\n",
    "        if idx % 100 == 0:\n",
    "            print('Train Epoch: {} [{}/{} ({:.0f}%)]\\tLoss: {:.6f}'.format(\n",
    "                epoch, idx * len(data), len(train_dataloader.dataset),\n",
    "                       100. * idx / len(train_dataloader), loss.item()))"
   ]
  },
  {
   "cell_type": "code",
   "execution_count": 25,
   "id": "1af65929",
   "metadata": {
    "ExecuteTime": {
     "end_time": "2021-06-20T06:56:31.235460Z",
     "start_time": "2021-06-20T06:55:50.329640Z"
    }
   },
   "outputs": [
    {
     "name": "stdout",
     "output_type": "stream",
     "text": [
      "Train Epoch: 0 [0/60000 (0%)]\tLoss: 2.354496\n",
      "Train Epoch: 0 [20000/60000 (33%)]\tLoss: 0.351051\n",
      "Train Epoch: 0 [40000/60000 (67%)]\tLoss: 0.242459\n",
      "Train Epoch: 1 [0/60000 (0%)]\tLoss: 0.180571\n",
      "Train Epoch: 1 [20000/60000 (33%)]\tLoss: 0.226569\n",
      "Train Epoch: 1 [40000/60000 (67%)]\tLoss: 0.185199\n",
      "Train Epoch: 2 [0/60000 (0%)]\tLoss: 0.214285\n",
      "Train Epoch: 2 [20000/60000 (33%)]\tLoss: 0.221121\n",
      "Train Epoch: 2 [40000/60000 (67%)]\tLoss: 0.193865\n",
      "Train Epoch: 3 [0/60000 (0%)]\tLoss: 0.226167\n",
      "Train Epoch: 3 [20000/60000 (33%)]\tLoss: 0.199483\n",
      "Train Epoch: 3 [40000/60000 (67%)]\tLoss: 0.129448\n",
      "Train Epoch: 4 [0/60000 (0%)]\tLoss: 0.144224\n",
      "Train Epoch: 4 [20000/60000 (33%)]\tLoss: 0.222717\n",
      "Train Epoch: 4 [40000/60000 (67%)]\tLoss: 0.131298\n"
     ]
    }
   ],
   "source": [
    "for i in range(5):\n",
    "    train(i)"
   ]
  },
  {
   "cell_type": "markdown",
   "id": "bf3d6ddc",
   "metadata": {},
   "source": [
    "### 测试"
   ]
  },
  {
   "cell_type": "code",
   "execution_count": 9,
   "id": "c37c6b1f",
   "metadata": {
    "ExecuteTime": {
     "end_time": "2021-06-20T06:39:53.727780Z",
     "start_time": "2021-06-20T06:39:53.718812Z"
    }
   },
   "outputs": [],
   "source": [
    "def test():\n",
    "    test_loss = 0\n",
    "    correct = 0\n",
    "    mnist_net.eval()\n",
    "    test_dataloader = get_dataloader(train=False)\n",
    "    with torch.no_grad():\n",
    "        for data, target in test_dataloader:\n",
    "            data = data.cuda()\n",
    "            target = target.cuda()\n",
    "            output = mnist_net(data)\n",
    "            test_loss += F.nll_loss(output, target, reduction='sum').item()\n",
    "            pred = output.data.max(1, keepdim=True)[1] #获取最大值的位置,[batch_size,1]\n",
    "            correct += pred.eq(target.data.view_as(pred)).sum()\n",
    "    test_loss /= len(test_dataloader.dataset)\n",
    "    print('\\nTest set: Avg. loss: {:.4f}, Accuracy: {}/{} ({:.2f}%)\\n'.format(\n",
    "        test_loss, correct, len(test_dataloader.dataset),\n",
    "        100. * correct / len(test_dataloader.dataset)))"
   ]
  },
  {
   "cell_type": "code",
   "execution_count": 10,
   "id": "f9ccd1b6",
   "metadata": {
    "ExecuteTime": {
     "end_time": "2021-06-20T06:39:56.657987Z",
     "start_time": "2021-06-20T06:39:55.328029Z"
    }
   },
   "outputs": [
    {
     "name": "stdout",
     "output_type": "stream",
     "text": [
      "\n",
      "Test set: Avg. loss: 0.1328, Accuracy: 9616/10000 (96.16%)\n",
      "\n"
     ]
    }
   ],
   "source": [
    "test()"
   ]
  }
 ],
 "metadata": {
  "kernelspec": {
   "display_name": "Python 3",
   "language": "python",
   "name": "python3"
  },
  "language_info": {
   "codemirror_mode": {
    "name": "ipython",
    "version": 3
   },
   "file_extension": ".py",
   "mimetype": "text/x-python",
   "name": "python",
   "nbconvert_exporter": "python",
   "pygments_lexer": "ipython3",
   "version": "3.9.4"
  },
  "toc": {
   "base_numbering": 1,
   "nav_menu": {},
   "number_sections": true,
   "sideBar": true,
   "skip_h1_title": false,
   "title_cell": "Table of Contents",
   "title_sidebar": "Contents",
   "toc_cell": false,
   "toc_position": {},
   "toc_section_display": true,
   "toc_window_display": false
  }
 },
 "nbformat": 4,
 "nbformat_minor": 5
}
